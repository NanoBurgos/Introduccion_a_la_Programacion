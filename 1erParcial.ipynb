{
  "nbformat": 4,
  "nbformat_minor": 0,
  "metadata": {
    "colab": {
      "provenance": [],
      "authorship_tag": "ABX9TyOETnqaUn1RB4bhd1DlLbVX",
      "include_colab_link": true
    },
    "kernelspec": {
      "name": "python3",
      "display_name": "Python 3"
    },
    "language_info": {
      "name": "python"
    }
  },
  "cells": [
    {
      "cell_type": "markdown",
      "metadata": {
        "id": "view-in-github",
        "colab_type": "text"
      },
      "source": [
        "<a href=\"https://colab.research.google.com/github/NanoBurgos/Introduccion_a_la_Programacion/blob/main/1erParcial.ipynb\" target=\"_parent\"><img src=\"https://colab.research.google.com/assets/colab-badge.svg\" alt=\"Open In Colab\"/></a>"
      ]
    },
    {
      "cell_type": "markdown",
      "source": [
        "#Tema 1\n",
        "\n",
        "    Algoritmo sin_titulo\n",
        "      //Definimos los tipos variables\n",
        "      Definir num, unidades, num_sin_unidad, centenas Como Entero\n",
        "      \n",
        "      //Solicitamos al usuario un numero entero de 3 cifras\n",
        "      //si el usuario mete un numero con coma dara error, por eso le especificamos que sea Entero\n",
        "      Escribir \"Ingrese un numero entero de 3 cifras: \"\n",
        "      Leer num\n",
        "      \n",
        "      //Si el usuario mete un numero mayor de tres cifras le volvemos a pedir para que el programa no\n",
        "      //se corte de una\n",
        "      si num > 999\n",
        "        Escribir \"Error, ingrese solo numeros de 3 cifras\"\n",
        "        Escribir \"Ingrese un nuero de 3 cifras: \"\n",
        "        Leer num\n",
        "      FinSi\n",
        "      \n",
        "      //calculamos y guardamos las unidades y centenas en variables por separado\n",
        "      unidades = num % 10\n",
        "      \n",
        "      num_sin_unidad = trunc(num/10)\n",
        "      \n",
        "      centenas = trunc(num_sin_unidad/10)\n",
        "      \n",
        "      Escribir \"--------------------------------------------------------\"\n",
        "      Escribir \"El numero ingresado fue: \",num\n",
        "      \n",
        "      //Realizamos comparaciones para ver si unidades es igual a centenas\n",
        "      //Agregamos los mensajes que vera el usuario\n",
        "      Si unidades = centenas\n",
        "        Escribir \"El numero SI es Capicúa\"\n",
        "      SiNo\n",
        "        Escribir \"El numero NO es Capicúa\"\n",
        "      FinSi\n",
        "      \n",
        "      \n",
        "    FinAlgoritmo\n"
      ],
      "metadata": {
        "id": "LQlkzcjjtzGX"
      }
    },
    {
      "cell_type": "markdown",
      "source": [
        "#Tema 2\n",
        "    //Luciano Ramon Burgos Lepel\n",
        "    Algoritmo sin_titulo\n",
        "      Definir costo_01, costo_02, costo_03, costo_guaranies, unidad_cambiaria, recargo Como Real\n",
        "      //definimos como real para que se adapte a las monedas de cualquier pais\n",
        "      Definir nombre, apellido, clase, clase_selec, region Como Caracter\n",
        "      \n",
        "      \n",
        "      //si la unidad cambiaria sufre ajustes, desde aca se puede cambiar una sola vez\n",
        "      unidad_cambiaria = 7400\n",
        "      \n",
        "      //si la empresa quiere que varie el monto de recargo, desde aqui se puede cambiar una sola vez\n",
        "      recargo = 10\n",
        "      \n",
        "      //si la empresa quiere que varie el costo de acuerdo a las reiones, desde aqui se puede cambiar una sola vez\n",
        "      costo_01 = 100\n",
        "      costo_02 = 80\n",
        "      costo_03 = 60\n",
        "      \n",
        "      //pedimos al alumno ingresar sus datos\n",
        "      Escribir \"Ingrese su nombre: \"\n",
        "      Leer nombre\n",
        "      Escribir \"Bienvenido \" nombre \" ingresa tu apellido\"\n",
        "      Leer apellido\n",
        "      \n",
        "      //pedimos al usuario seleccionar su destino\n",
        "      Escribir \"Ingrese (E) para clase ejecutiva ó (T) para clase turista\"\n",
        "      leer clase\n",
        "      \n",
        "      //realizamos comparaciones, incluimos mayusculas y minusculas para que el uso sea mas flexible para el usuario\n",
        "      si clase = 'T' o clase ='t'\n",
        "        clase_selec = 'Turista'\n",
        "      FinSi\n",
        "      \n",
        "      si clase = 'E' o clase ='e'\n",
        "        costo_01 = costo_01 + recargo\n",
        "        costo_02 = costo_02 + recargo\n",
        "        costo_03 = costo_03 + recargo\n",
        "        clase_selec = 'Ejecutiva'\n",
        "      FinSi\n",
        "      \n",
        "      //pedimos al usuario seleccionar la region de Destino\n",
        "      Escribir \"Seleccione la region (1)  (2)  (3): \"\n",
        "      Leer region\n",
        "      \n",
        "      //Realizamos los calculos del costo en guaranies\n",
        "      Si region = '1'\n",
        "        costo_guaranies = (costo_01*unidad_cambiaria)\n",
        "      FinSi\n",
        "      \n",
        "      Si region = '2'\n",
        "        costo_guaranies = (costo_02*unidad_cambiaria)\n",
        "      FinSi\n",
        "      \n",
        "      Si region = '3'\n",
        "        costo_guaranies = (costo_03*unidad_cambiaria)\n",
        "      FinSi\n",
        "      \n",
        "      Escribir \"----------------------------------------\"\n",
        "      Escribir \"Pasajero: \" apellido \", \" nombre\n",
        "      Escribir \"Viaje en clase: \" clase_selec \", Destino seleccionado: Region \" region\n",
        "      Escribir \"El costo del vuelo es de: \" costo_guaranies \" Gs\"\n",
        "      \n",
        "      Escribir \"******Primer Parcial elaborado por: Luciano Burgos******\"\n",
        "      \n",
        "      \n",
        "    FinAlgoritmo\n"
      ],
      "metadata": {
        "id": "dS7XHzedt_4Q"
      }
    },
    {
      "cell_type": "markdown",
      "source": [],
      "metadata": {
        "id": "7mis0Nruuv0g"
      }
    }
  ]
}