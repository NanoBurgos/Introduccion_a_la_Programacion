{
  "nbformat": 4,
  "nbformat_minor": 0,
  "metadata": {
    "colab": {
      "provenance": [],
      "authorship_tag": "ABX9TyPv4A0dPsKJ7BlBEcv2K5Hv",
      "include_colab_link": true
    },
    "kernelspec": {
      "name": "python3",
      "display_name": "Python 3"
    },
    "language_info": {
      "name": "python"
    }
  },
  "cells": [
    {
      "cell_type": "markdown",
      "metadata": {
        "id": "view-in-github",
        "colab_type": "text"
      },
      "source": [
        "<a href=\"https://colab.research.google.com/github/NanoBurgos/Introduccion_a_la_Programacion/blob/main/Clase5.ipynb\" target=\"_parent\"><img src=\"https://colab.research.google.com/assets/colab-badge.svg\" alt=\"Open In Colab\"/></a>"
      ]
    },
    {
      "cell_type": "markdown",
      "source": [
        "**Realizar un programa que, solicite el nombre de un alumno y luego calcule el promedio de sus 3 notas**   \n",
        "      \n",
        "          Algoritmo sin_titulo\n",
        "            Definir sum, calif, c Como Entero\n",
        "            Definir prom Como Real\n",
        "            Definir nombre como cadena\n",
        "            \n",
        "            sum = 0\n",
        "            \n",
        "            Escribir \"Igrese el nombre del alumno: \"\n",
        "            Leer nombre\n",
        "            \n",
        "            Para c=1 hasta 3 Hacer\n",
        "              \n",
        "              Imprimir \"Ingrese la \" c \"° calificacion:\"\n",
        "              \n",
        "              Leer calif\n",
        "              \n",
        "              sum = sum + calif\n",
        "            FinPara\n",
        "            \n",
        "            prom = sum/3\n",
        "            \n",
        "            Escribir \"El promedio de sus 3 calificaciones es: \" prom\n",
        "            \n",
        "            \n",
        "          FinAlgoritmo\n"
      ],
      "metadata": {
        "id": "VA_UtIQhLn6q"
      }
    },
    {
      "cell_type": "markdown",
      "source": [
        "**Realizar un ejercicio que introduzca numeros 5 veces, y al final imprima cuantos fueron positivos**\n",
        "\n",
        "      Algoritmo sin_titulo\n",
        "        Definir n, num Como Entero\n",
        "        Definir cont_positivo Como Real\n",
        "        \n",
        "        c = 0\n",
        "        \n",
        "        Para n=1 hasta 5 Hacer\n",
        "          Leer num\n",
        "          \n",
        "          Si num > 0 Entonces\n",
        "            Imprimir \"El numero que ingreso es POSITIVO\"\n",
        "            \n",
        "            cont_positivo = cont_positivo + 1\n",
        "          FinSi\n",
        "        FinPara\n",
        "        \n",
        "        Escribir \"La cantidad de numeros positivos introducidos es: \" cont_positivo\n",
        "        \n",
        "      FinAlgoritmo\n"
      ],
      "metadata": {
        "id": "1aYyvs82OUv1"
      }
    },
    {
      "cell_type": "markdown",
      "source": [
        "**Suponga que se tiene un conjunto de calificaciones de un grupo de 5 alumnos. Realizar un un algoritmo para calcular la calificacion media y la calificacion mas baja de todo el grupo**\n",
        "\n",
        "      Algoritmo sin_titulo\n",
        "        \n",
        "        Definir calificacion, suma, nota_baja, promedio como Real\n",
        "        \n",
        "        nota_baja = 999\n",
        "        suma = 0\n",
        "        \n",
        "        Para i=1 hasta 5 Hacer\n",
        "          \n",
        "          Escribir\"Ingrese la calificacion del \" i \"° Alumno: \"\n",
        "          Leer calificacion\n",
        "          \n",
        "          suma = suma + calificacion\n",
        "          \n",
        "          Si calificacion < nota_baja Entonces\n",
        "            \n",
        "            nota_baja = calificacion\n",
        "            \n",
        "          FinSi\n",
        "          \n",
        "        FinPara\n",
        "        \n",
        "        promedio = suma/5\n",
        "        \n",
        "        Escribir  \"La calificacion media del grupo es: \" promedio\n",
        "        Escribir \"La nota mas baja fue: \" nota_baja\n",
        "        \n",
        "      FinAlgoritmo\n"
      ],
      "metadata": {
        "id": "lqkvGMHtPQWv"
      }
    },
    {
      "cell_type": "markdown",
      "source": [
        "**Simular el comportamiento de un reloj digital, imprimiendo la hora, minutos y segundos de un dia desde las 00:00:00 horas hasta las 23:59:59 horas**\n",
        "\n",
        "      Algoritmo sin_titulo\n",
        "        \n",
        "        Definir hora, min, seg como Entero\n",
        "        \n",
        "        Para h= 1 Hasta 23 Hacer\n",
        "          Para min =1 Hasta 59 Hacer\n",
        "            Para seg = 1 Hasta 59 Hacer\n",
        "              Escribir h, m, s\n",
        "            FinPara\n",
        "          FinPara\n",
        "        FinPara\n",
        "        \n",
        "      FinAlgoritmo"
      ],
      "metadata": {
        "id": "P8xBsMMHT2CX"
      }
    },
    {
      "cell_type": "markdown",
      "source": [
        "**Calcular el valor de la suma de los 100 primeros numeros naturales**\n",
        "\n",
        "    Algoritmo sin_titulo\n",
        "      Definir suma Como Entero\n",
        "      \n",
        "      suma = 0\n",
        "      \n",
        "      Para i = 1 Hasta 100 Con Paso 1 Hacer\n",
        "        suma = suma + i\n",
        "      FinPara\n",
        "      \n",
        "      Escribir \"La suma de los 100 primeros numeros naturales es: \" suma\n",
        "      \n",
        "    FinAlgoritmo\n",
        "\n"
      ],
      "metadata": {
        "id": "7SiRB7vaV7bG"
      }
    }
  ]
}