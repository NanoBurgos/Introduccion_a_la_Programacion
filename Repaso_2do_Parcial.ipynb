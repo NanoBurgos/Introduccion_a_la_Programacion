{
  "nbformat": 4,
  "nbformat_minor": 0,
  "metadata": {
    "colab": {
      "provenance": [],
      "authorship_tag": "ABX9TyP4EfsaUCVkzP0g90BW2c6K",
      "include_colab_link": true
    },
    "kernelspec": {
      "name": "python3",
      "display_name": "Python 3"
    },
    "language_info": {
      "name": "python"
    }
  },
  "cells": [
    {
      "cell_type": "markdown",
      "metadata": {
        "id": "view-in-github",
        "colab_type": "text"
      },
      "source": [
        "<a href=\"https://colab.research.google.com/github/NanoBurgos/Introduccion_a_la_Programacion/blob/main/Repaso_2do_Parcial.ipynb\" target=\"_parent\"><img src=\"https://colab.research.google.com/assets/colab-badge.svg\" alt=\"Open In Colab\"/></a>"
      ]
    },
    {
      "cell_type": "markdown",
      "source": [
        "**//Solicitar al usuario que ingrese numeros enteros y calcular la suma hasta que ingrese un cero**\n",
        "\n",
        "\n",
        "      Algoritmo sin_titulo\n",
        "        \n",
        "        Definir acumulador, contador, num, continuar Como Entero\n",
        "        \n",
        "        acumulador = 0\n",
        "        contador = 0\n",
        "        \n",
        "        Escribir \"Ingrese numeros solo enteros: \"\n",
        "        \n",
        "        continuar = 1\n",
        "        \n",
        "        Mientras continuar <> 0 Hacer\n",
        "          Escribir \"Ingrese un numero\"\n",
        "          Leer num\n",
        "          \n",
        "          acumulador = acumulador + num\n",
        "          contador = contador + 1\n",
        "          \n",
        "          Si num == 0 Entonces\n",
        "            continuar = 0\n",
        "          FinSi\n",
        "          \n",
        "        FinMientras\n",
        "        \n",
        "        Escribir \"La suma es: \", acumulador\n",
        "        Escribir \"La cantidad de iteraciones es: \", contador\n",
        "\n",
        "        \n",
        "      FinAlgoritmo"
      ],
      "metadata": {
        "id": "5Ofp0gPPapvH"
      }
    },
    {
      "cell_type": "markdown",
      "source": [
        "**//Elabora un algoritmo que imprima los numeros del uno al 100**\n",
        "\n",
        "    Algoritmo sin_titulo\n",
        "      \n",
        "      Definir num como Entero\n",
        "      \n",
        "      num = 1\n",
        "      \n",
        "      Mientras num <= 100 Hacer\n",
        "        \n",
        "        Escribir num\n",
        "        \n",
        "        num = num +1\n",
        "        \n",
        "      FinMientras\n",
        "      \n",
        "    FinAlgoritmo\n"
      ],
      "metadata": {
        "id": "zHcU75kOa3s-"
      }
    },
    {
      "cell_type": "markdown",
      "source": [
        "**//En un club se registran, entre otros datos, para cada uno de los socios: Numero de socio, edad, tipo de Deporte(1 Tenis, 5 Futbol)\n",
        "//Realizar  un algoritmo que permita informar cuantos socios practican tenis y cuantos futbol y el promedio de edad de los jugadores por deporte**\n",
        "\n",
        "\n",
        "    Algoritmo sin_titulo\n",
        "      \n",
        "      Definir continuar, cont_futbol, cont_tenis, decision, num_socio, edad, deporte Como Entero\n",
        "      Definir promedio_futbol, promedio_tenis Como Real\n",
        "      \n",
        "      continuar = 1\n",
        "      \n",
        "      cont_tenis = 0\n",
        "      cont_futbol = 0\n",
        "\n",
        "      Mientras continuar = 1  Hacer\n",
        "        Escribir \"Desea ingresar los datos de un nuevo socio? (1 = Si) (2 = No)\"\n",
        "        Leer decision\n",
        "        \n",
        "        Si decision == 2 Entonces\n",
        "          continuar = 0\n",
        "        SiNo\n",
        "          \n",
        "          Escribir \"Ingrese su numero de Socio: \"\n",
        "          Leer num_socio\n",
        "          \n",
        "          Escribir \"Ingrese su edad: \"\n",
        "          Leer edad\n",
        "          \n",
        "          Escribir \"Elija una opcion de acuerdo al Deporte que Practica (1 = Tenis) (5 =  Futbol)\"\n",
        "          Leer deporte\n",
        "          \n",
        "          Segun deporte Hacer\n",
        "            1:\n",
        "              cont_tenis = cont_tenis + 1\n",
        "              acum_tenis = acum_tenis + edad\n",
        "              \n",
        "              promedio_tenis = acum_tenis / cont_tenis\n",
        "            5:\n",
        "              cont_futbol = cont_futbol + 1\n",
        "              acum_futbol = acum_futbol + edad\n",
        "              \n",
        "              promedio_tenis = acum_futbol / cont_futbol\n",
        "            De Otro Modo:\n",
        "              Escribir \"Error, numero no valido\"\n",
        "          Fin Segun\n",
        "        \n",
        "        FinSi\n",
        "        \n",
        "      FinMientras\n",
        "      \n",
        "      Escribir \"La cantidad de Socios Inscriptos en Tenis es: \", cont_tenis\n",
        "      Escribir \"El promedio de Edad de jugadores de Tenis es: \", promedio_tenis\n",
        "      \n",
        "      Escribir \"La cantidad de Socios Inscriptos en Futbol es: \", cont_futbol\n",
        "      Escribir \"El promedio de Edad de jugadores de Futbol es: \", promedio_futbol\n",
        "      \n",
        "      \n",
        "    FinAlgoritmo\n"
      ],
      "metadata": {
        "id": "VNoyg5cygMDz"
      }
    },
    {
      "cell_type": "markdown",
      "source": [],
      "metadata": {
        "id": "_EhvhMObqrlN"
      }
    }
  ]
}