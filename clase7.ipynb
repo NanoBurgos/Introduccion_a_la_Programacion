{
  "nbformat": 4,
  "nbformat_minor": 0,
  "metadata": {
    "colab": {
      "provenance": [],
      "authorship_tag": "ABX9TyPALeoWp0FkDQnpIOKtY7ZU",
      "include_colab_link": true
    },
    "kernelspec": {
      "name": "python3",
      "display_name": "Python 3"
    },
    "language_info": {
      "name": "python"
    }
  },
  "cells": [
    {
      "cell_type": "markdown",
      "metadata": {
        "id": "view-in-github",
        "colab_type": "text"
      },
      "source": [
        "<a href=\"https://colab.research.google.com/github/NanoBurgos/Introduccion_a_la_Programacion/blob/main/clase7.ipynb\" target=\"_parent\"><img src=\"https://colab.research.google.com/assets/colab-badge.svg\" alt=\"Open In Colab\"/></a>"
      ]
    },
    {
      "cell_type": "markdown",
      "source": [
        "**1era clase 3er Parcial**"
      ],
      "metadata": {
        "id": "a3tjFgL1LtkW"
      }
    },
    {
      "cell_type": "markdown",
      "source": [
        "# **Introduccion a C++**\n",
        "\n",
        "**ESTRUCTURA BASICA DE UN PROGRAMA EN C++**\n",
        "\n",
        "      /*  Comentarios   */\n",
        "      \n",
        "      Libreria estandar\n",
        "      \n",
        "      Funcion Principal(){\n",
        "\n",
        "      bloque de instrucciones\n",
        "\n",
        "      return(0);\n",
        "      }\n",
        "\n",
        "      "
      ],
      "metadata": {
        "id": "pnmNPHkALxjb"
      }
    },
    {
      "cell_type": "markdown",
      "source": [
        "**Se generan 3 tipos de archivos al guardar**\n",
        "\n",
        "- .cpp codigo fuente\n",
        "\n",
        "- object donde almacenan todos los objetos\n",
        "\n",
        "- .exe ejecutable\n",
        "\n"
      ],
      "metadata": {
        "id": "1qGEUxFNTslT"
      }
    },
    {
      "cell_type": "markdown",
      "source": [
        "**Para cambiar los colores de la ventana**\n",
        "\n",
        "system(\"color B3\");\n",
        "\n",
        "      COLOR [attr]                                                                                                                                                                                                                                      attr Especifica el atributo de color de la salida de consola.                                                                                                                                                     \n",
        "      Los atributos de color están especificados con DOS dígitos hexadecimales\n",
        "      (el primero corresponde al segundo plano; el segundo al primer plano).\n",
        "      Los dígitos  pueden coincidir con cualquiera de los siguientes valores:                                                                                                                                                                                          0 = Negro    \n",
        "      1 = Azul       \n",
        "      2 = Verde       A = Verde claro                                                                                        \n",
        "      3 = Aguamarina        B = Aguamarina claro                                                                             \n",
        "      4 = Rojo        C = Rojo claro                                                                                     \n",
        "      5 = Púrpura     D = Púrpura claro                                                                                      \n",
        "      6 = Amarillo    E = Amarillo claro                                                                                  \n",
        "      7 = Blanco      F = Blanco brillante\n",
        "      8 = Gris       \n",
        "      9 = Azul claro                                                                                                                                                                                \n",
        "  "
      ],
      "metadata": {
        "id": "HwwHYmT6bbpY"
      }
    },
    {
      "cell_type": "markdown",
      "source": [
        "      #include <iostream>\n",
        "      #include<cstdlib>\n",
        "\n",
        "      using namespace std;\n",
        "\n",
        "      int main(){\n",
        "\n",
        "      system(\"color b3\");\n",
        "      int n1, n2;\n",
        "      float resul;\n",
        "\n",
        "      cout<<\"Ingrese dos valores\"<<endl;\n",
        "      cin>>n1>>n2;\n",
        "\n",
        "      resul = n1 + n2;\n",
        "\n",
        "      cout<<\"Resultado: \\t\"<<resul;\n",
        "\n",
        "      system(\"color a2\");\n",
        "\n",
        "        return 0;\n",
        "      }"
      ],
      "metadata": {
        "id": "Ow3FtVJ5enJO"
      }
    },
    {
      "cell_type": "markdown",
      "source": [
        "# **LIMPIEZA DE PANTALLA**\n",
        "\n",
        "    system(\"cls\")//limpia la pantalla antes de ejecutar la siguiente accion"
      ],
      "metadata": {
        "id": "YXdDqZYWfD5i"
      }
    },
    {
      "cell_type": "markdown",
      "source": [
        "      #include <iostream>\n",
        "      #include<cstdlib>\n",
        "\n",
        "      using namespace std;\n",
        "\n",
        "      int main(){\n",
        "\n",
        "      system(\"color b3\");\n",
        "      int n1, n2;\n",
        "      float resul;\n",
        "\n",
        "      cout<<\"Ingrese dos valores\"<<endl;\n",
        "      cin>>n1>>n2;\n",
        "\n",
        "      resul = n1 + n2;\n",
        "\n",
        "      system(\"cls\");//limpia la pantalla antes de ejecutar la siguiente accion\n",
        "\n",
        "      cout<<\"Resultado: \\t\"<<resul;\n",
        "\n",
        "      system(\"color a2\");\n",
        "\n",
        "        return 0;\n",
        "      }"
      ],
      "metadata": {
        "id": "FvQVMqJwfTKR"
      }
    },
    {
      "cell_type": "markdown",
      "source": [
        "# **EXISTEN 3 TIPOS DE ESTRUCTURAS**\n",
        "\n",
        "CONDICIONES, CICLOS O BUCLES,\n",
        "\n",
        "# **CONDICIONALES**\n",
        "\n",
        "      if(condicion){\n",
        "        bloque de ejecucion\n",
        "      }\n",
        "      else\n",
        "        bloque de ejecucion (por defecto), SI NO SE CUMPLE LA CONDICION\n",
        "\n",
        "Si en el if, lo que se ejecuta tiene una sola linea, se puede hacer sin llaves\n",
        "\n",
        "Si son mas instrucciones, las instrucciones van dentro de {}\n",
        "\n",
        "# **FOR**\n",
        "for(inicio, condicion de final, paso){\n",
        "  bloque de ejecucion\n",
        "}\n",
        "\n",
        "for(int i=0; i<n; i++){\n",
        "  bloque de ejecucion\n",
        "}\n",
        "\n",
        "# **WHILE**\n",
        "\n",
        "      while(condicion){\n",
        "\n",
        "      bloque de ejecucion\n",
        "\n",
        "      }\n",
        "\n",
        "i++ aumenta desppues de la primera iteracion\n",
        "\n",
        "++i aumenta ya en la primera iteracion,"
      ],
      "metadata": {
        "id": "azsAX2DnmmBL"
      }
    }
  ]
}