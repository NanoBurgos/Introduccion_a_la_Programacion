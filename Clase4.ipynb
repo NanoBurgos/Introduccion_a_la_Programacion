{
  "nbformat": 4,
  "nbformat_minor": 0,
  "metadata": {
    "colab": {
      "provenance": [],
      "authorship_tag": "ABX9TyPsOBfCakPa63Hcuhx/M/ZO",
      "include_colab_link": true
    },
    "kernelspec": {
      "name": "python3",
      "display_name": "Python 3"
    },
    "language_info": {
      "name": "python"
    }
  },
  "cells": [
    {
      "cell_type": "markdown",
      "metadata": {
        "id": "view-in-github",
        "colab_type": "text"
      },
      "source": [
        "<a href=\"https://colab.research.google.com/github/NanoBurgos/Introduccion_a_la_Programacion/blob/main/Clase4.ipynb\" target=\"_parent\"><img src=\"https://colab.research.google.com/assets/colab-badge.svg\" alt=\"Open In Colab\"/></a>"
      ]
    },
    {
      "cell_type": "markdown",
      "source": [
        "# 1era Clase de 2do Parcial"
      ],
      "metadata": {
        "id": "bzQWabwRO2ne"
      }
    },
    {
      "cell_type": "markdown",
      "source": [
        "Desarrollar un algoritmo que, a partir de una fecha ingresada por teclado en el formato DÍA, MES, AÑO, determine y muestre la fecha correspondiente al día siguiente. Se asume que la fecha introducida es válida.\n",
        "\n",
        "Además, se deberá elaborar un documento en Word que incluya:\n",
        "\n",
        "La solución completa del algoritmo.\n",
        "\n",
        "Las capturas de pantalla que evidencien el correcto funcionamiento del programa en los siguientes casos:\n",
        "\n",
        "A) Día siguiente en una fecha común.\n",
        "\n",
        "B) Día siguiente de un mes con 30 días.\n",
        "\n",
        "C) Día siguiente de un mes con 31 días.\n",
        "\n",
        "D) Día siguiente del 31/12/2025 (inicio de un nuevo año).\n",
        "\n",
        "¡Éxitos en el desarrollo!"
      ],
      "metadata": {
        "id": "gg0k-wxoPBcO"
      }
    },
    {
      "cell_type": "markdown",
      "source": [
        "    Algoritmo sin_titulo\n",
        "      \n",
        "      Definir dd, mm, aa, dds, mms, aas como Entero\n",
        "      \n",
        "      Escribir \"Ingrese la fecha actual (dd/mm/aa): \"\n",
        "      Leer dd\n",
        "      Leer mm\n",
        "      Leer aa\n",
        "      \n",
        "      dds = dd + 1\n",
        "      mms = mm\n",
        "      aas = aa\n",
        "      \n",
        "      Si dd >= 28 Entonces\n",
        "        Segun mm Hacer\n",
        "          4, 6, 9, 11:\n",
        "            Si dds > 30 Entonces\n",
        "              dds = 1\n",
        "              mms = mm+1\n",
        "            FinSi\n",
        "          2:\n",
        "            Si dds > 29 O aa MOD 4 <> 0 Entonces\n",
        "              dds = 1\n",
        "              mms = 3\n",
        "            FinSi\n",
        "          1,3,5,7,8,10:\n",
        "            Si dds > 31 Entonces\n",
        "              dds = 1\n",
        "              mms = mm+1\n",
        "            FinSi\n",
        "          De otro modo:\n",
        "            Si dds > 31 Entonces\n",
        "              dds = 1\n",
        "              mms = 1\n",
        "              aas = aa + 1\n",
        "            FinSi\n",
        "        Fin Segun\n",
        "        \n",
        "      FinSi\n",
        "      \n",
        "      Escribir \"La fecha introducida fue: \" dd, \" / \" mm, \" / \" aa\n",
        "      Escribir \"El dia siguiente es: \" dds, \" / \" mms, \" / \" aas\n",
        "      \n",
        "    FinAlgoritmo"
      ],
      "metadata": {
        "id": "L0jtw_GaVQ8e"
      }
    },
    {
      "cell_type": "markdown",
      "source": [
        "Tarea:\n",
        "Ejercicios\n",
        "1. Se desea convertir las calificaciones\n",
        "alfabéticas A, B, C, D y E a calificaciones\n",
        "numéricas 1, 2, 3, 4 y 5 respectivamente.\n",
        "\n",
        "1. Diseñar un algoritmo que nos indique si\n",
        "un número entero, leído de teclado tiene\n",
        "1, 2, 3 o mas de 3 dígitos. Considerar los\n",
        "negativos\n",
        "\n",
        "1. Preguntar que día de la semana fue el día\n",
        "1 del mes actual y calcular que día de la\n",
        "semana es hoy."
      ],
      "metadata": {
        "id": "41MX8sznfE4_"
      }
    },
    {
      "cell_type": "markdown",
      "source": [
        "# Estructuras Ciclicas\n",
        "\n",
        "Hacer Para (cuando se conoce el numero de iteraciones)\n",
        "\n",
        "Hacer Mientras (cuando se no conoce el numero de iteraciones)\n"
      ],
      "metadata": {
        "id": "sT2n1CmVd-D9"
      }
    },
    {
      "cell_type": "markdown",
      "source": [
        "// Calcular el promedio de un alumno que tiene 3 calificaciones\n",
        "\n",
        "    Algoritmo sin_titulo\n",
        "      Definir sum, calif, c Como Entero\n",
        "      Definir prom Como Real\n",
        "      Definir nombe como Cadena\n",
        "      \n",
        "      sum = 0\n",
        "      \n",
        "      Escribir \"Ingrese el nombre del Alumno: \"\n",
        "      Leer nombre\n",
        "      \n",
        "      Para c=1 Hasta 3 Hacer\n",
        "        \n",
        "        Escribir \"Ingrese la \" c \" ° Calificacion de \" nombre\n",
        "        leer calif\n",
        "        \n",
        "        sum = sum + calif\n",
        "      FinPara\n",
        "      \n",
        "      prom = sum/3\n",
        "      \n",
        "      Escribir \"El promedio de sus calificaciones es: \" prom\n",
        "      \n",
        "      \n",
        "    FinAlgoritmo\n"
      ],
      "metadata": {
        "id": "0MTLoxV6k0Qw"
      }
    },
    {
      "cell_type": "markdown",
      "source": [
        "*Tarea:* Ejercicio 6 diapositiva 152, ver y tratar de entender para explicar en clase"
      ],
      "metadata": {
        "id": "7E2bkSkanxGw"
      }
    }
  ]
}