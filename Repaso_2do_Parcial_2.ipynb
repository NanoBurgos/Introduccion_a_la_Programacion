{
  "nbformat": 4,
  "nbformat_minor": 0,
  "metadata": {
    "colab": {
      "provenance": [],
      "authorship_tag": "ABX9TyPOYWZ+pg7D+Tu8DIJsYPHM",
      "include_colab_link": true
    },
    "kernelspec": {
      "name": "python3",
      "display_name": "Python 3"
    },
    "language_info": {
      "name": "python"
    }
  },
  "cells": [
    {
      "cell_type": "markdown",
      "metadata": {
        "id": "view-in-github",
        "colab_type": "text"
      },
      "source": [
        "<a href=\"https://colab.research.google.com/github/NanoBurgos/Introduccion_a_la_Programacion/blob/main/Repaso_2do_Parcial_2.ipynb\" target=\"_parent\"><img src=\"https://colab.research.google.com/assets/colab-badge.svg\" alt=\"Open In Colab\"/></a>"
      ]
    },
    {
      "cell_type": "markdown",
      "source": [
        "**EJERCICIO 1 Desafío: \"¡Las campanadas del reloj encantado!\" Cuenta la leyenda que en la torre del pueblo hay un reloj encantado .\n",
        "\n",
        "Cada hora, marca la hora con tantas campanadas como el número que indica\n",
        "(por ejemplo, a las 3 suena 3 veces ).\n",
        "\n",
        "Además, a cada media hora da una campanada extra para que nadie se quede dormido.\n",
        "\n",
        "Tu misión como joven programador es crear un algoritmo que calcule cuántas campanadas sonarán desde una hora determinada (H) hasta las 12 de la noche .\n",
        "\n",
        "Datos del problema: • La hora de inicio se ingresa por teclado (por ejemplo, 7 si son las 7 en punto). •\n",
        "\n",
        "Si el usuario ingresa una hora mayor a 12  (por ejemplo, 15), se debe convertir al formato de 12 horas (15 → 3). • El reloj da una campanada a cada media hora además de las campanadas de cada hora completa. •\n",
        "\n",
        "El algoritmo debe mostrar  la cantidad total de campanadas desde esa hora hasta las 12.// Ejemplo: Si el reloj empieza a sonar a las 10, dará: • A las 10 → • A las 10:30 → • A las 11 → x11 • A las 11:30 → • A las 12 → x12\n",
        "Total: 36 campanadas. 5\n",
        "\n",
        "Objetivo: Mostrar en pantalla un mensaje como: \"Desde las 10 hasta las 12, el reloj dará un total de 36 campanadas. ¡Qué noche ruidosa!\"**\n",
        "\n",
        "      Algoritmo sin_titulo\n",
        "        Definir hora, hora_introducida, i, total_campanadas Como Entero\n",
        "        \n",
        "        Escribir \"Ingrese la hora actual: \"\n",
        "        Leer hora_introducida\n",
        "        \n",
        "        //convertimos la hora a formato 1-12 si el usuario ingresa en formato 1-24\n",
        "        Si hora_introducida <= 12 Entonces\n",
        "          \n",
        "          hora = hora_introducida\n",
        "        SiNo\n",
        "          hora = hora_introducida - 12\n",
        "        FinSi\n",
        "        \n",
        "        total_campanadas = 0 //mi acumulador de campanadas\n",
        "        \n",
        "        Para i=hora Hasta 12 Con Paso  1 Hacer\n",
        "          total_campanadas = total_campanadas + i //acumula la cantidad de horas\n",
        "          Si i < 12 Entonces\n",
        "            total_campanadas = total_campanadas + 1\n",
        "            //cada vez que se vuelva a entrar en el bucle, significa que aun no se llego a las 12, y como cada media hora se aumenta una campanada, usamos un contador\n",
        "          FinSi\n",
        "        FinPara\n",
        "        \n",
        "        Escribir \"Hora ingresada: \", hora_introducida\n",
        "        Escribir \"La cantidad total de campanadas que sonaran es: \", total_campanadas\n",
        "        \n",
        "      FinAlgoritmo\n"
      ],
      "metadata": {
        "id": "DY2smw5bh38U"
      }
    },
    {
      "cell_type": "markdown",
      "source": [
        "**EJERCICIO 2 Desafío: “El número factorial mágico” ¡Bienvenido al laboratorio de los números infinitos!\n",
        "\n",
        "Hoy vas a descubrir el poder oculto del factorial, una operación muy especial que hace crecer los números a una velocidad impresionante .\n",
        "\n",
        "Tu misión es crear un algoritmo que reciba un número natural (n) y calcule su factorial.\n",
        "\n",
        "¿Qué es el factorial? El factorial de un número (n!) es el resultado de multiplicar ese número por todos los anteriores hasta llegar al 1.\n",
        "\n",
        "Por ejemplo: • 4! = 4 × 3 × 2 × 1 = 24 • 5! = 5 × 4 × 3 × 2 × 1 = 120\n",
        "\n",
        "Observá cómo los resultados crecen rapidísimo. ¡Es como una explosión de multiplicaciones!\n",
        "\n",
        "Lo que debe hacer tu programa: 1. Pedir al usuario que ingrese un número natural n. 2. Calcular el factorial de ese número usando un bucle. 3.\n",
        "\n",
        "Mostrar el resultado por pantalla con un mensaje divertido. Salida esperada: “El factorial de 5 es 120. ¡Qué número tan poderoso!”\n",
        "\n",
        "Pista: Usá una variable acumuladora llamada factorial y multiplicala en cada paso del bucle hasta llegar a 1.**\n",
        "\n",
        "      Algoritmo sin_titulo\n",
        "        Definir num, acumulador Como Entero\n",
        "        \n",
        "        Escribir \"Ingrese un numero mayor que cero: \"\n",
        "        Leer num\n",
        "        \n",
        "        acumulador = 1\n",
        "        \n",
        "        Si num = 0 Entonces\n",
        "          \n",
        "          acumulador = 1 //si el usuario ingresa 0, mostramos directamente el resultado\n",
        "          \n",
        "        SiNo //si ingresa otro numero, calculamos el factorial\n",
        "          \n",
        "          Para i = num Hasta 1 Con Paso -1 Hacer\n",
        "            \n",
        "            acumulador = acumulador * i\n",
        "            \n",
        "          FinPara\n",
        "          \n",
        "        FinSi\n",
        "        \n",
        "        Escribir \"El factorial de \", num \" es: \", acumulador, \" ¡Que numero tan poderoso!\"\n",
        "        \n",
        "      FinAlgoritmo"
      ],
      "metadata": {
        "id": "lzvnBhqAiYiM"
      }
    }
  ]
}