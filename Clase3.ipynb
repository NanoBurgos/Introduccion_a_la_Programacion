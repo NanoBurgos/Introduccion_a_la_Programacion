{
  "nbformat": 4,
  "nbformat_minor": 0,
  "metadata": {
    "colab": {
      "provenance": [],
      "authorship_tag": "ABX9TyPTX7ad+fDP0ya61jw7N2en",
      "include_colab_link": true
    },
    "kernelspec": {
      "name": "python3",
      "display_name": "Python 3"
    },
    "language_info": {
      "name": "python"
    }
  },
  "cells": [
    {
      "cell_type": "markdown",
      "metadata": {
        "id": "view-in-github",
        "colab_type": "text"
      },
      "source": [
        "<a href=\"https://colab.research.google.com/github/NanoBurgos/Introduccion_a_la_Programacion/blob/main/Clase3.ipynb\" target=\"_parent\"><img src=\"https://colab.research.google.com/assets/colab-badge.svg\" alt=\"Open In Colab\"/></a>"
      ]
    },
    {
      "cell_type": "markdown",
      "source": [
        "1. A un trabajador le pagan según sus horas y una tarifa de pago por horas, si la cantidad de horas trabajadas es mayor a 80 horas, la tarifa se incrementa en un 20% para las horas extras, calcular el salario del\n",
        "trabajador dadas las horas trabajadas y la tarifa\n",
        "  \n"
      ],
      "metadata": {
        "id": "-0AtJhRZSmwf"
      }
    },
    {
      "cell_type": "markdown",
      "source": [
        "    Algoritmo sin_titulo\n",
        "        Definir horas_trabajadas, horas_extras como real\n",
        "        \n",
        "        Definir salario Como Real\n",
        "        \n",
        "        Escribir \"Ingrese la cantidad de horas trabajadas: \"\n",
        "        \n",
        "        Leer horas_trabajadas\n",
        "        \n",
        "        horas_extras = 0\n",
        "        \n",
        "        Escribir \"Ingrese el monto que cobra por hora: \"\n",
        "        \n",
        "        Leer monto_hora\n",
        "        \n",
        "        SI horas_trabajadas > 80\n",
        "          \n",
        "          horas_extras = horas_trabajadas - 80\n",
        "            \n",
        "          salario = 80 * monto_hora + ((horas_extras * monto_hora)*0.2)\n",
        "          \n",
        "        FinSi\n",
        "\n",
        "        Si horas_trabajadas <= 80\n",
        "          \n",
        "          salario = horas_trabajadas*monto_hora\n",
        "          \n",
        "        FinSi\n",
        "        \n",
        "        Escribir \"El salario final del trabajador es: \" salario\n",
        "        \n",
        "      FinAlgoritmo"
      ],
      "metadata": {
        "id": "cVyX4bRUVmy9"
      }
    },
    {
      "cell_type": "markdown",
      "source": [
        "2. Permita leer tres valores, e imprima el valor del medio\n",
        "   \n",
        "      \n",
        "      \n"
      ],
      "metadata": {
        "id": "rOhdqrwySywg"
      }
    },
    {
      "cell_type": "markdown",
      "source": [
        "    Definir a,b,c Como Entero\n",
        "        \n",
        "    Escribir \"Ingrese el primer valor: \"\n",
        "        \n",
        "    Leer a\n",
        "        \n",
        "    Escribir \"Ingrese el segundo valor: \"\n",
        "        \n",
        "    Leer b\n",
        "        \n",
        "    Escribir \"Ingrese el tercer valor: \"\n",
        "        \n",
        "    Leer c\n",
        "        \n",
        "    Si ((b>a)y(b<c)) o ((b<a)o(b>c))\n",
        "        \n",
        "        Imprimir \"El del medio es: \" b\n",
        "          \n",
        "    SiNo\n",
        "        \n",
        "        si ((a>b)y(a<c)) o ((a<b)y(a>c))\n",
        "        \n",
        "            Imprimir \"El del medio es: \" a\n",
        "            \n",
        "        SiNo\n",
        "        \n",
        "      Imprimir \"El del medio es: \" c\n",
        "            \n",
        "        FinSi\n",
        "        \n",
        "    FinSi\n",
        "        \n",
        "        \n",
        "        \n",
        "    FinAlgoritmo"
      ],
      "metadata": {
        "id": "99cOpsM_V6we"
      }
    },
    {
      "cell_type": "markdown",
      "source": [],
      "metadata": {
        "id": "qLJ9ZH-eWXTm"
      }
    }
  ]
}